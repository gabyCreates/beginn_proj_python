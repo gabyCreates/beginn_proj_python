{
 "cells": [
  {
   "cell_type": "markdown",
   "metadata": {},
   "source": [
    "# Mad Libs Generator\n",
    "\n",
    "The Goal: Inspired by Summer Son’s Mad Libs project with Javascript. The program will first prompt the user for a series of inputs a la Mad Libs. For example, a singular noun, an adjective, etc. Then, once all the information has been inputted, the program will take that data and place them into a premade story template. You’ll need prompts for user input, and to then print out the full story at the end with the input included.\n",
    "\n",
    "Concepts to keep in mind:\n",
    "\n",
    "- Strings\n",
    "- Variables\n",
    "- Concatenation\n",
    "- Print\n",
    "\n",
    "source: https://knightlab.northwestern.edu/2014/06/05/five-mini-programming-projects-for-the-python-beginner/"
   ]
  },
  {
   "cell_type": "markdown",
   "metadata": {},
   "source": [
    "Mad Libs about Jobs\n",
    "\n",
    "source: https://www.glowwordbooks.com/blog/category/kids-online-mad-libs/"
   ]
  },
  {
   "cell_type": "code",
   "execution_count": 6,
   "metadata": {},
   "outputs": [
    {
     "name": "stdout",
     "output_type": "stream",
     "text": [
      "Welcome to Mad Libs about Jobs! \n",
      "Fill in to generate your own silly mad libs story.      \n",
      "(Hint: A Verb is an action.  A Noun is a person/place/thing.      \n",
      "An Adjective describes a person/place/thing.)\n",
      "\n",
      "Do you want to start? y / n : ok\n",
      "\n",
      "Do you want to start? y / n : Yes\n",
      "\n",
      "Please fill in the following: \n",
      "Occupation (a job): model\n",
      "Noun: gym\n",
      "Adjective: strong\n",
      "Another Noun: Joe\n",
      "Verb: eat\n",
      "Another Adjective: slow\n",
      "Another Noun: store\n",
      "Another Verb: talk\n",
      "Another Noun: weights\n",
      "And last, another Verb: train\n",
      "\n",
      "Thank you!\n",
      "\n",
      "Today a model named Ms.Weights came to our school to talk to us\n",
      "about her job. She said the most important skill you need\n",
      "to know to do her job is to be able to talk around (a) strong store.\n",
      "She said it was easy for her to learn her job because she\n",
      "loved to eat when she was my age--and that helps a lot! If\n",
      "you're considering her profession, I hope you can be near\n",
      "(a) slow gym. That's very important! If you get too distracted\n",
      "in that situation you won't be able to train next to (a) Joe!\n"
     ]
    }
   ],
   "source": [
    "print(\"Welcome to Mad Libs about Jobs! \\nFill in to generate your own silly mad libs story.\\\n",
    "      \\n(Hint: A Verb is an action.  A Noun is a person/place/thing.\\\n",
    "      \\nAn Adjective describes a person/place/thing.)\")\n",
    "\n",
    "response = ''\n",
    "ml_list = []\n",
    "\n",
    "while response not in ['y', 'n']:\n",
    "    game = input(\"\\nDo you want to start? y / n : \")\n",
    "    if game[0].lower() == 'y':\n",
    "        print(\"\\nPlease fill in the following: \")\n",
    "        occ = input(\"Occupation (a job): \")\n",
    "        ml_list.append(occ)\n",
    "        noun1 = input(\"Noun: \")\n",
    "        ml_list.append(noun1)\n",
    "        adj1 = input(\"Adjective: \")\n",
    "        ml_list.append(adj1)\n",
    "        noun2 = input(\"Another Noun: \")\n",
    "        ml_list.append(noun2)\n",
    "        verb1 = input(\"Verb: \")\n",
    "        ml_list.append(verb1)\n",
    "        adj2 = input(\"Another Adjective: \")\n",
    "        ml_list.append(adj2)\n",
    "        noun3 = input(\"Another Noun: \")\n",
    "        ml_list.append(noun3)\n",
    "        verb2 = input(\"Another Verb: \")\n",
    "        ml_list.append(verb2)\n",
    "        noun4 = input(\"Another Noun: \")\n",
    "        ml_list.append(noun4.capitalize())\n",
    "        verb3 = input(\"And last, another Verb: \")\n",
    "        ml_list.append(verb3) \n",
    "        \n",
    "        print(\"\\nThank you!\")\n",
    "        \n",
    "        print(\"\\nToday a {} named Ms.{} came to our school to talk to us\\n\\\n",
    "about her job. She said the most important skill you need\\n\\\n",
    "to know to do her job is to be able to {} around (a) {} {}.\\n\\\n",
    "She said it was easy for her to learn her job because she\\n\\\n",
    "loved to {} when she was my age--and that helps a lot! If\\n\\\n",
    "you're considering her profession, I hope you can be near\\n\\\n",
    "(a) {} {}. That's very important! If you get too distracted\\n\\\n",
    "in that situation you won't be able to {} next to (a) {}!\".format(ml_list[0], ml_list[8], \n",
    "                            ml_list[7], ml_list[2], ml_list[6], ml_list[4], \n",
    "                            ml_list[5], ml_list[1], ml_list[9], ml_list[3]))\n",
    "        break\n",
    "       \n",
    "        \n",
    "    elif game[0].lower() == 'n':\n",
    "        print(\"\\nThank you for your time!\")\n",
    "        break\n"
   ]
  },
  {
   "cell_type": "code",
   "execution_count": null,
   "metadata": {},
   "outputs": [],
   "source": []
  },
  {
   "cell_type": "markdown",
   "metadata": {},
   "source": [
    "September, 2020\n",
    "\n",
    "Joana Torres"
   ]
  }
 ],
 "metadata": {
  "kernelspec": {
   "display_name": "Python 3",
   "language": "python",
   "name": "python3"
  },
  "language_info": {
   "codemirror_mode": {
    "name": "ipython",
    "version": 3
   },
   "file_extension": ".py",
   "mimetype": "text/x-python",
   "name": "python",
   "nbconvert_exporter": "python",
   "pygments_lexer": "ipython3",
   "version": "3.7.4"
  }
 },
 "nbformat": 4,
 "nbformat_minor": 2
}
