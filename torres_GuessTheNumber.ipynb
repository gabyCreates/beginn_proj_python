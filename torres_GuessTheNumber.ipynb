{
 "cells": [
  {
   "cell_type": "markdown",
   "metadata": {},
   "source": [
    "Guess the Number\n",
    "\n",
    "The Goal: Similar to the first project, this project also uses the random module in Python. The program will first randomly generate a number unknown to the user. The user needs to guess what that number is. (In other words, the user needs to be able to input information.) If the user’s guess is wrong, the program should return some sort of indication as to how wrong (e.g. The number is too high or too low). If the user guesses correctly, a positive indication should appear. You’ll need functions to check if the user input is an actual number, to see the difference between the inputted number and the randomly generated numbers, and to then compare the numbers.\n",
    "\n",
    "Concepts to keep in mind:\n",
    "\n",
    "- Random function\n",
    "- Variables\n",
    "- Integers\n",
    "- Input/Output\n",
    "- Print\n",
    "- While loops\n",
    "- If/Else statements\n",
    "\n",
    "source: https://knightlab.northwestern.edu/2014/06/05/five-mini-programming-projects-for-the-python-beginner/"
   ]
  },
  {
   "cell_type": "code",
   "execution_count": null,
   "metadata": {},
   "outputs": [],
   "source": []
  },
  {
   "cell_type": "markdown",
   "metadata": {},
   "source": [
    "Improvement: How can improve if input isn't an integer?!"
   ]
  },
  {
   "cell_type": "code",
   "execution_count": 1,
   "metadata": {},
   "outputs": [
    {
     "name": "stdout",
     "output_type": "stream",
     "text": [
      "Welcome to Guess The Number! Guess from 1 to 100.\n",
      "\n",
      "Do you want to play? y / n : ok\n",
      "\n",
      "Do you want to play? y / n : 20\n",
      "\n",
      "Do you want to play? y / n : Yes\n",
      "\n",
      "What is your guess? Enter a number:  50\n",
      "Your guess, 50, is high! Try again...\n",
      "\n",
      "Do you want to play? y / n : 30\n",
      "\n",
      "Do you want to play? y / n : y\n",
      "\n",
      "What is your guess? Enter a number:  30\n",
      "Your guess, 30, is high! Try again...\n",
      "\n",
      "Do you want to play? y / n : y\n",
      "\n",
      "What is your guess? Enter a number:  20\n",
      "Your guess, 20, is low! Try again...\n",
      "\n",
      "Do you want to play? y / n : y\n",
      "\n",
      "What is your guess? Enter a number:  25\n",
      "Your guess, 25, is high! Try again...\n",
      "\n",
      "Do you want to play? y / n : y\n",
      "\n",
      "What is your guess? Enter a number:  23\n",
      "Your guess, 23, is high! Try again...\n",
      "\n",
      "Do you want to play? y / n : y\n",
      "\n",
      "What is your guess? Enter a number:  22\n",
      "Your guess, 22, is high! Try again...\n",
      "\n",
      "Do you want to play? y / n : y\n",
      "\n",
      "What is your guess? Enter a number:  21\n",
      "CONGRATS! YOU GUESSED CORRECTLY!\n",
      "The correct guess is: 21\n"
     ]
    }
   ],
   "source": [
    "import random\n",
    "\n",
    "print(\"Welcome to Guess The Number! Guess from 1 to 100.\")\n",
    "\n",
    "response = ''\n",
    "num_generated = random.randint(0, 100)\n",
    "\n",
    "while response not in ['y', 'n']:\n",
    "    game = input(\"\\nDo you want to play? y / n : \")\n",
    "    if game[0].lower() == 'y':\n",
    "        guess = int(input(\"\\nWhat is your guess? Enter a number:  \"))\n",
    "        \n",
    "        if guess in range(1, 101):\n",
    "            if guess == num_generated:\n",
    "                print(\"CONGRATS! YOU GUESSED CORRECTLY!\")\n",
    "                break\n",
    "                        \n",
    "            elif guess > num_generated:\n",
    "                print(\"Your guess, {}, is high! Try again...\".format(guess))\n",
    "                \n",
    "                \n",
    "            elif guess < num_generated:\n",
    "                print(\"Your guess, {}, is low! Try again...\".format(guess))\n",
    "                            \n",
    "        else:\n",
    "            print(\"Please enter a number between 1 and 100! \")\n",
    "            guess\n",
    "            continue\n",
    "            \n",
    "    elif game[0].lower() == 'n':\n",
    "        print(\"Thank you for playing!\")\n",
    "        break\n",
    "\n",
    "print(\"The correct guess is: {}\".format(num_generated))\n"
   ]
  },
  {
   "cell_type": "code",
   "execution_count": null,
   "metadata": {},
   "outputs": [],
   "source": []
  },
  {
   "cell_type": "markdown",
   "metadata": {},
   "source": [
    "September, 2020\n",
    "\n",
    "Joana Torres"
   ]
  }
 ],
 "metadata": {
  "kernelspec": {
   "display_name": "Python 3",
   "language": "python",
   "name": "python3"
  },
  "language_info": {
   "codemirror_mode": {
    "name": "ipython",
    "version": 3
   },
   "file_extension": ".py",
   "mimetype": "text/x-python",
   "name": "python",
   "nbconvert_exporter": "python",
   "pygments_lexer": "ipython3",
   "version": "3.7.4"
  }
 },
 "nbformat": 4,
 "nbformat_minor": 2
}
