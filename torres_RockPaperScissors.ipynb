{
 "cells": [
  {
   "cell_type": "markdown",
   "metadata": {},
   "source": [
    "Start by making it player vs computer. Skills used: Gain a better understanding of while loops and if statements.\n",
    "\n",
    "source: https://careerkarma.com/blog/python-projects-beginners/"
   ]
  },
  {
   "cell_type": "code",
   "execution_count": 10,
   "metadata": {},
   "outputs": [],
   "source": [
    "import random\n",
    "\n",
    "h = ['rock', 'paper', 'scissors']"
   ]
  },
  {
   "cell_type": "code",
   "execution_count": 11,
   "metadata": {},
   "outputs": [
    {
     "name": "stdout",
     "output_type": "stream",
     "text": [
      "Welcome to Rock, Paper & Scissors!\n",
      "\n",
      "Want to play? y / n : y\n",
      "\n",
      "(R)ock, (P)aper or (S)cissors? n\n",
      "\n",
      "Please enter (R), (P) or (S): \n",
      "\n",
      "Want to play? y / n : y\n",
      "\n",
      "(R)ock, (P)aper or (S)cissors? ok\n",
      "\n",
      "Please enter (R), (P) or (S): \n",
      "\n",
      "Want to play? y / n : y\n",
      "\n",
      "(R)ock, (P)aper or (S)cissors? ROCK\n",
      "\n",
      "You: rock \n",
      "Computer: paper\n",
      "Computer Wins!\n",
      "\n",
      "Want to play? y / n : n\n",
      "Thank you for playing!\n"
     ]
    }
   ],
   "source": [
    "print(\"Welcome to Rock, Paper & Scissors!\")\n",
    "\n",
    "response = ''\n",
    "random.shuffle(h)\n",
    "computer = h.pop()\n",
    "\n",
    "while response not in ['y', 'n']:\n",
    "    game = input(\"\\nWant to play? y / n : \")\n",
    "    \n",
    "    if game[0].lower() == 'y':\n",
    "        player = input('\\n(R)ock, (P)aper or (S)cissors? ').lower()\n",
    "    \n",
    "        if player[0] == 'r' or player[0] == 'p' or player[0] == 's':\n",
    "            if player[0] == 'r':\n",
    "                if computer[0] == 'p':\n",
    "                    print(\"\\nYou: {} \\nComputer: {}\".format(player, computer))\n",
    "                    print(\"Computer Wins!\")\n",
    "                if computer [0] == 's':\n",
    "                    print(\"\\nYou: {} \\nComputer: {}\".format(player, computer))\n",
    "                    print(\"You Win!\")\n",
    "            \n",
    "            elif player[0] == 'p':\n",
    "                if computer[0] == 's':\n",
    "                    print(\"\\nYou: {} \\nComputer: {}\".format(player, computer))\n",
    "                    print(\"Computer Wins!\")\n",
    "                if computer [0] == 'r':\n",
    "                    print(\"\\nYou: {} \\nComputer: {}\".format(player, computer))\n",
    "                    print(\"You Win!\")\n",
    "           \n",
    "            elif player[0] == 's':\n",
    "                if computer[0] == 'r':\n",
    "                    print(\"\\nYou: {} \\nComputer: {}\".format(player, computer))\n",
    "                    print(\"Computer Wins!\")\n",
    "                if computer [0] == 'p':\n",
    "                    print(\"\\nYou: {} \\nComputer: {}\".format(player, computer))\n",
    "                    print(\"You Win!\")\n",
    "            \n",
    "            else:\n",
    "                print(\"\\nYou: {} \\nComputer: {}\".format(player, computer))\n",
    "                print(\"It's a TIE GAME!\")\n",
    "\n",
    "        else:\n",
    "            print(\"\\nPlease enter (R), (P) or (S): \")\n",
    "            continue\n",
    "            \n",
    "    elif game[0].lower() == 'n':\n",
    "        print(\"Thank you for playing!\")\n",
    "        break\n"
   ]
  },
  {
   "cell_type": "code",
   "execution_count": null,
   "metadata": {},
   "outputs": [],
   "source": []
  },
  {
   "cell_type": "code",
   "execution_count": null,
   "metadata": {},
   "outputs": [],
   "source": []
  },
  {
   "cell_type": "markdown",
   "metadata": {},
   "source": [
    "September, 2020\n",
    "\n",
    "Joana Torres"
   ]
  },
  {
   "cell_type": "code",
   "execution_count": null,
   "metadata": {},
   "outputs": [],
   "source": []
  }
 ],
 "metadata": {
  "kernelspec": {
   "display_name": "Python 3",
   "language": "python",
   "name": "python3"
  },
  "language_info": {
   "codemirror_mode": {
    "name": "ipython",
    "version": 3
   },
   "file_extension": ".py",
   "mimetype": "text/x-python",
   "name": "python",
   "nbconvert_exporter": "python",
   "pygments_lexer": "ipython3",
   "version": "3.7.4"
  }
 },
 "nbformat": 4,
 "nbformat_minor": 2
}
