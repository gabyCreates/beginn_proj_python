{
 "cells": [
  {
   "cell_type": "markdown",
   "metadata": {},
   "source": [
    "Guess the Number\n",
    "\n",
    "The Goal: Similar to the first project, this project also uses the random module in Python. The program will first randomly generate a number unknown to the user. The user needs to guess what that number is. (In other words, the user needs to be able to input information.) If the user’s guess is wrong, the program should return some sort of indication as to how wrong (e.g. The number is too high or too low). If the user guesses correctly, a positive indication should appear. You’ll need functions to check if the user input is an actual number, to see the difference between the inputted number and the randomly generated numbers, and to then compare the numbers.\n",
    "\n",
    "Concepts to keep in mind:\n",
    "\n",
    "- Random function\n",
    "- Variables\n",
    "- Integers\n",
    "- Input/Output\n",
    "- Print\n",
    "- While loops\n",
    "- If/Else statements\n",
    "\n",
    "source: https://knightlab.northwestern.edu/2014/06/05/five-mini-programming-projects-for-the-python-beginner/"
   ]
  },
  {
   "cell_type": "markdown",
   "metadata": {},
   "source": [
    "# First Attempt"
   ]
  },
  {
   "cell_type": "markdown",
   "metadata": {},
   "source": [
    "# NOT FINISHED: Not outputing guess nor printing... Aug. 27th, 2020\n",
    "\n",
    "# Aug. 29th, 2020 Fixed and finished.\n",
    "PROBLEM WAS: HAD A WHILE LOOP FOR 2ND IF STATEMENT IN WHILE LOOP.\n",
    "\n",
    "COULD IMPROVE TO AVOID ERRORS - IF INPUT OF 'GUESS' IS NOT AN INTEGER...\n",
    "IMPROVED (08/29/2020) BY NOT HAVING INT() IN 'GUESS' BEFORE INPUT()\n",
    "\n",
    "# Sept. 01st, 2020 Updated\n",
    "DO NEED INT() IN 'GUESS' BEFORE INPUT()\n",
    "\n",
    "HOW CAN IMPROVE IF INPUT ISN'T AN INTEGER?!"
   ]
  },
  {
   "cell_type": "code",
   "execution_count": null,
   "metadata": {},
   "outputs": [],
   "source": []
  },
  {
   "cell_type": "code",
   "execution_count": 7,
   "metadata": {},
   "outputs": [
    {
     "name": "stdout",
     "output_type": "stream",
     "text": [
      "Welcome to Guess The Number! Guess from 1 to 100.\n",
      "\n",
      "Do you want to play? y / n : y\n",
      "\n",
      "What is your guess? Enter a number:  40\n",
      "Your guess, 40, is high! Try again...\n",
      "\n",
      "Do you want to play? y / n : n\n",
      "Thank you for playing!\n",
      "The correct guess is: 16\n"
     ]
    }
   ],
   "source": [
    "import random\n",
    "\n",
    "print(\"Welcome to Guess The Number! Guess from 1 to 100.\")\n",
    "\n",
    "\n",
    "response = ''\n",
    "num_generated = random.randint(0, 100)\n",
    "\n",
    "while response not in ['y', 'n']:\n",
    "    game = input(\"\\nDo you want to play? y / n : \")\n",
    "    if game[0].lower() == 'y':\n",
    "        guess = int(input(\"\\nWhat is your guess? Enter a number:  \"))\n",
    "        \n",
    "        if guess in range(1, 101):\n",
    "            if guess == num_generated:\n",
    "                print(\"CONGRATS! YOU GUESSED CORRECTLY!\")\n",
    "                break\n",
    "                        \n",
    "            elif guess > num_generated:\n",
    "                print(\"Your guess, {}, is high! Try again...\".format(guess))\n",
    "                \n",
    "                \n",
    "            elif guess < num_generated:\n",
    "                print(\"Your guess, {}, is low! Try again...\".format(guess))\n",
    "                            \n",
    "        else:\n",
    "            print(\"Please enter a number between 1 and 100! \")\n",
    "            guess\n",
    "            continue\n",
    "            \n",
    "    elif game[0].lower() == 'n':\n",
    "        print(\"Thank you for playing!\")\n",
    "        break\n",
    "\n",
    "print(\"The correct guess is: {}\".format(num_generated))"
   ]
  },
  {
   "cell_type": "code",
   "execution_count": null,
   "metadata": {},
   "outputs": [],
   "source": []
  },
  {
   "cell_type": "code",
   "execution_count": null,
   "metadata": {},
   "outputs": [],
   "source": [
    "print(*range(0,11))"
   ]
  },
  {
   "cell_type": "code",
   "execution_count": null,
   "metadata": {},
   "outputs": [],
   "source": [
    "import random\n",
    "num = random.randint(0,11)"
   ]
  },
  {
   "cell_type": "code",
   "execution_count": null,
   "metadata": {},
   "outputs": [],
   "source": [
    "num"
   ]
  },
  {
   "cell_type": "code",
   "execution_count": null,
   "metadata": {},
   "outputs": [],
   "source": []
  }
 ],
 "metadata": {
  "kernelspec": {
   "display_name": "Python 3",
   "language": "python",
   "name": "python3"
  },
  "language_info": {
   "codemirror_mode": {
    "name": "ipython",
    "version": 3
   },
   "file_extension": ".py",
   "mimetype": "text/x-python",
   "name": "python",
   "nbconvert_exporter": "python",
   "pygments_lexer": "ipython3",
   "version": "3.7.4"
  }
 },
 "nbformat": 4,
 "nbformat_minor": 2
}
