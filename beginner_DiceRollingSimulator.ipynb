{
 "cells": [
  {
   "cell_type": "markdown",
   "metadata": {},
   "source": [
    "The Goal: Like the title suggests, this project involves writing a program that simulates rolling dice. When the program runs, it will randomly choose a number between 1 and 6. (Or whatever other integer you prefer — the number of sides on the die is up to you.) The program will print what that number is. It should then ask you if you’d like to roll again. For this project, you’ll need to set the min and max number that your dice can produce. For the average die, that means a minimum of 1 and a maximum of 6. You’ll also want a function that randomly grabs a number within that range and prints it.\n",
    "\n",
    "Concepts to keep in mind:\n",
    "\n",
    "- Random\n",
    "- Integer\n",
    "- Print\n",
    "- While Loops\n",
    "\n",
    "\n",
    "source: https://knightlab.northwestern.edu/2014/06/05/five-mini-programming-projects-for-the-python-beginner/\n"
   ]
  },
  {
   "cell_type": "markdown",
   "metadata": {},
   "source": [
    "# First attempt\n",
    "\n",
    "Breaks if input not y or n:"
   ]
  },
  {
   "cell_type": "code",
   "execution_count": 3,
   "metadata": {},
   "outputs": [],
   "source": [
    "import random\n",
    "\n",
    "dice = [1,2,3,4,5,6]"
   ]
  },
  {
   "cell_type": "code",
   "execution_count": 4,
   "metadata": {},
   "outputs": [
    {
     "name": "stdout",
     "output_type": "stream",
     "text": [
      "Welcome to the Dice Rolling Simulator!\n",
      "\n",
      "Want to roll the dice? y / n : l\n",
      "\n",
      "Thank you for playing!\n"
     ]
    }
   ],
   "source": [
    "print(\"Welcome to the Dice Rolling Simulator!\")\n",
    "game = input(\"\\nWant to roll the dice? y / n : \")\n",
    "\n",
    "if game[0].lower() == 'y':\n",
    "    random.shuffle(dice)\n",
    "    roll = dice.pop()\n",
    "    print('\\nYou rolled a: {}'.format(roll))\n",
    "    \n",
    "else:\n",
    "    print(\"\\nThank you for playing!\")\n"
   ]
  },
  {
   "cell_type": "code",
   "execution_count": null,
   "metadata": {},
   "outputs": [],
   "source": []
  },
  {
   "cell_type": "markdown",
   "metadata": {},
   "source": [
    "# Improvement\n",
    "\n",
    "Loops if don't input y or n and until don't want to roll anymore:"
   ]
  },
  {
   "cell_type": "code",
   "execution_count": 5,
   "metadata": {},
   "outputs": [],
   "source": [
    "import random\n",
    "\n",
    "dice = [1,2,3,4,5,6]"
   ]
  },
  {
   "cell_type": "code",
   "execution_count": 6,
   "metadata": {},
   "outputs": [
    {
     "name": "stdout",
     "output_type": "stream",
     "text": [
      "Welcome to the Dice Rolling Simulator!\n",
      "\n",
      "Want to roll the dice? y / n : k\n",
      "\n",
      "Want to roll the dice? y / n : e\n",
      "\n",
      "Want to roll the dice? y / n : 3\n",
      "\n",
      "Want to roll the dice? y / n : y\n",
      "\n",
      "You rolled a: 6\n",
      "\n",
      "Want to roll the dice? y / n : n\n",
      "\n",
      "Thank you for playing!\n"
     ]
    }
   ],
   "source": [
    "print(\"Welcome to the Dice Rolling Simulator!\")\n",
    "response = ''\n",
    "\n",
    "while response not in ['y', 'n']:\n",
    "    game = input(\"\\nWant to roll the dice? y / n : \")\n",
    "    if game[0].lower() == 'y':\n",
    "        random.shuffle(dice)\n",
    "        roll = dice.pop()\n",
    "        print('\\nYou rolled a: {}'.format(roll))\n",
    "    \n",
    "    elif game[0].lower() == 'n':\n",
    "        print(\"\\nThank you for playing!\")\n",
    "        break"
   ]
  },
  {
   "cell_type": "code",
   "execution_count": null,
   "metadata": {},
   "outputs": [],
   "source": []
  }
 ],
 "metadata": {
  "kernelspec": {
   "display_name": "Python 3",
   "language": "python",
   "name": "python3"
  },
  "language_info": {
   "codemirror_mode": {
    "name": "ipython",
    "version": 3
   },
   "file_extension": ".py",
   "mimetype": "text/x-python",
   "name": "python",
   "nbconvert_exporter": "python",
   "pygments_lexer": "ipython3",
   "version": "3.7.4"
  }
 },
 "nbformat": 4,
 "nbformat_minor": 2
}
